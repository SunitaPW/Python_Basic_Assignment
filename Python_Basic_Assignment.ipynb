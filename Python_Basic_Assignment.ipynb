{
  "nbformat": 4,
  "nbformat_minor": 0,
  "metadata": {
    "colab": {
      "provenance": []
    },
    "kernelspec": {
      "name": "python3",
      "display_name": "Python 3"
    },
    "language_info": {
      "name": "python"
    }
  },
  "cells": [
    {
      "cell_type": "markdown",
      "source": [
        "Answer 1 - The key features of Python that make it popular choice for programming are:-\n",
        "\n",
        "1) Python is a progtamming language that is easy to learn, understand and write, making it a popular choice among developers and programmers.\n",
        "\n",
        "2) Python is a compatible with various programming patterns, like procedural, object-oriented, and functional programming.\n",
        "\n",
        "3) Python has a large and active community of developers, an large scale standard library and third party package for various domains."
      ],
      "metadata": {
        "id": "Y3x1poYygwwv"
      }
    },
    {
      "cell_type": "markdown",
      "source": [
        "Answer 2 - The role of predefined keywords in python are:-\n",
        "\n",
        "1) Predefined keywords are reserved words in puthon that have special meaning and cannot be used as indetifiers.\n",
        "\n",
        "2) Keywords are case sensitive and cannot redefined or overridden with a python program.\n",
        "\n",
        "3) There are total 36 keywords in python as of now. like (if, else, while, for, True, False, etc.)"
      ],
      "metadata": {
        "id": "Qo_eZl7zlHpc"
      }
    },
    {
      "cell_type": "code",
      "source": [
        "#Some examples of predefined keywords how they are used in program:-\n",
        "\n",
        "#Example of (if keyword)\n",
        "\n",
        "a = 4\n",
        "if (a < 7):\n",
        "  print(\"Smaller Number\")"
      ],
      "metadata": {
        "colab": {
          "base_uri": "https://localhost:8080/"
        },
        "id": "_2e0ICkzn7lr",
        "outputId": "6156b486-d65b-4611-fa59-2e01d5902dd1"
      },
      "execution_count": null,
      "outputs": [
        {
          "output_type": "stream",
          "name": "stdout",
          "text": [
            "Smaller Number\n"
          ]
        }
      ]
    },
    {
      "cell_type": "code",
      "source": [
        "a = 8\n",
        "if (a > 7):\n",
        "  print(\"Greater Number\")"
      ],
      "metadata": {
        "colab": {
          "base_uri": "https://localhost:8080/"
        },
        "id": "ssottDmuqaW-",
        "outputId": "646e93b5-8aa3-4b81-d989-63778e169e48"
      },
      "execution_count": null,
      "outputs": [
        {
          "output_type": "stream",
          "name": "stdout",
          "text": [
            "Greater Number\n"
          ]
        }
      ]
    },
    {
      "cell_type": "code",
      "source": [
        "#Example of (else keyword)\n",
        "\n",
        "Number = 10\n",
        "if (Number < 20):\n",
        "  print(\"Number is less than 20\")\n",
        "else:\n",
        "  print(\"Number is greater than 20\")"
      ],
      "metadata": {
        "colab": {
          "base_uri": "https://localhost:8080/"
        },
        "id": "BoEzdAgyzodk",
        "outputId": "342c8f70-137a-4c8c-edb3-7ac4f08c70a6"
      },
      "execution_count": null,
      "outputs": [
        {
          "output_type": "stream",
          "name": "stdout",
          "text": [
            "Number is less than 20\n"
          ]
        }
      ]
    },
    {
      "cell_type": "code",
      "source": [
        "Number = 30\n",
        "if (Number < 20):\n",
        "  print(\"Number is less than 20\")\n",
        "else:\n",
        "  print(\"Number is greater than 20\")"
      ],
      "metadata": {
        "colab": {
          "base_uri": "https://localhost:8080/"
        },
        "id": "a_vybKLP0STF",
        "outputId": "aa0aec2b-7176-45db-8b15-b5dc9f1b38bb"
      },
      "execution_count": null,
      "outputs": [
        {
          "output_type": "stream",
          "name": "stdout",
          "text": [
            "Number is greater than 20\n"
          ]
        }
      ]
    },
    {
      "cell_type": "code",
      "source": [
        "#Example of (True keyword)\n",
        "\n",
        "covid_vaccine = True\n",
        "if (covid_vaccine):\n",
        "    print(\"You are immune to covide\")\n",
        "else:\n",
        "  print(\"Go and get the vaccine\")"
      ],
      "metadata": {
        "colab": {
          "base_uri": "https://localhost:8080/"
        },
        "id": "_OZY_JZ9qgW0",
        "outputId": "8bf93165-a272-4497-af14-128b9aa50be8"
      },
      "execution_count": null,
      "outputs": [
        {
          "output_type": "stream",
          "name": "stdout",
          "text": [
            "You are immune to covide\n"
          ]
        }
      ]
    },
    {
      "cell_type": "code",
      "source": [
        "#Example of (False keyword)\n",
        "\n",
        "covid_vaccine = False\n",
        "if (covid_vaccine):\n",
        "    print(\"You are immune to covide\")\n",
        "else:\n",
        "  print(\"Go and get the vaccine\")"
      ],
      "metadata": {
        "colab": {
          "base_uri": "https://localhost:8080/"
        },
        "id": "fmMQoMc2seNG",
        "outputId": "16be40f3-3b79-48b4-f14d-c65e2e839e28"
      },
      "execution_count": null,
      "outputs": [
        {
          "output_type": "stream",
          "name": "stdout",
          "text": [
            "Go and get the vaccine\n"
          ]
        }
      ]
    },
    {
      "cell_type": "code",
      "source": [
        "#Example of (while keyword)\n",
        "\n",
        "number = 10\n",
        "i = 1\n",
        "while(i < number):\n",
        "  print(i)\n",
        "  i = i + 1\n"
      ],
      "metadata": {
        "colab": {
          "base_uri": "https://localhost:8080/"
        },
        "id": "uCy-l8uIzjSh",
        "outputId": "16d65e98-7faf-4920-9e1a-2c39b6b6e4b9"
      },
      "execution_count": null,
      "outputs": [
        {
          "output_type": "stream",
          "name": "stdout",
          "text": [
            "1\n",
            "2\n",
            "3\n",
            "4\n",
            "5\n",
            "6\n",
            "7\n",
            "8\n",
            "9\n"
          ]
        }
      ]
    },
    {
      "cell_type": "code",
      "source": [
        "count = 7\n",
        "while(count > 0):\n",
        "  print(count)\n",
        "  count = count - 1"
      ],
      "metadata": {
        "colab": {
          "base_uri": "https://localhost:8080/"
        },
        "id": "PyiZnUC91DCh",
        "outputId": "48522c84-9bf3-43f1-f5be-ee3faa1f1f61"
      },
      "execution_count": null,
      "outputs": [
        {
          "output_type": "stream",
          "name": "stdout",
          "text": [
            "7\n",
            "6\n",
            "5\n",
            "4\n",
            "3\n",
            "2\n",
            "1\n"
          ]
        }
      ]
    },
    {
      "cell_type": "code",
      "source": [
        "#Example of (for keyword)\n",
        "\n",
        "for i in \"Sunita\":\n",
        "  print(i)"
      ],
      "metadata": {
        "colab": {
          "base_uri": "https://localhost:8080/"
        },
        "id": "3YB2dJFV1f5M",
        "outputId": "6adbb199-a2fe-4a14-bd25-c85dddc22af3"
      },
      "execution_count": null,
      "outputs": [
        {
          "output_type": "stream",
          "name": "stdout",
          "text": [
            "S\n",
            "u\n",
            "n\n",
            "i\n",
            "t\n",
            "a\n"
          ]
        }
      ]
    },
    {
      "cell_type": "code",
      "source": [
        "list = [1, 2, \"Data Analytics Course\", \"Sunita\", 5.8, 9, \"Assignment\"]\n",
        "for i in list:\n",
        "  print(i)"
      ],
      "metadata": {
        "colab": {
          "base_uri": "https://localhost:8080/"
        },
        "id": "45Z1PU3M2BOs",
        "outputId": "2bfed3d6-e89c-43d1-a7ff-f2a1a408abb7"
      },
      "execution_count": null,
      "outputs": [
        {
          "output_type": "stream",
          "name": "stdout",
          "text": [
            "1\n",
            "2\n",
            "Data Analytics Course\n",
            "Sunita\n",
            "5.8\n",
            "9\n",
            "Assignment\n"
          ]
        }
      ]
    },
    {
      "cell_type": "code",
      "source": [
        "for i in range(1, 11):\n",
        "  print(i, end = \" \")"
      ],
      "metadata": {
        "colab": {
          "base_uri": "https://localhost:8080/"
        },
        "id": "ExsFkk_B2ZxT",
        "outputId": "a63a459b-7566-4135-b0a2-97fb4010cf88"
      },
      "execution_count": null,
      "outputs": [
        {
          "output_type": "stream",
          "name": "stdout",
          "text": [
            "1 2 3 4 5 6 7 8 9 10 "
          ]
        }
      ]
    },
    {
      "cell_type": "markdown",
      "source": [
        "Answer 3 - Mutability affects how objects are kept and manipulated in memory, Impacting performance, memory usage and concurrency in python program.\n",
        "\n",
        "Mutable and Immutable Objects:-\n",
        "\n",
        "1) Mutable objects - The object which we can change or modify after the getting executed is called mutable objects. Examples of Mutable object is (List, Dictionaries).\n",
        "\n",
        "2)Immutable Objects - The object which we cannot change after getting executed is immutable object. Examples (String, Tuples)."
      ],
      "metadata": {
        "id": "SNpVxwRq3gqK"
      }
    },
    {
      "cell_type": "code",
      "source": [
        "#Example of Mutable Objects:-\n",
        "\n",
        "list = [1, 2, 3, 4.5, 3+5j, True, False, \"Sunita\", \"Pwskills\"]\n",
        "list"
      ],
      "metadata": {
        "colab": {
          "base_uri": "https://localhost:8080/"
        },
        "id": "nm5toSzv5YCY",
        "outputId": "ba8e0c08-bd13-4ea1-c68f-e6f802c5fa1e"
      },
      "execution_count": null,
      "outputs": [
        {
          "output_type": "execute_result",
          "data": {
            "text/plain": [
              "[1, 2, 3, 4.5, (3+5j), True, False, 'Sunita', 'Pwskills']"
            ]
          },
          "metadata": {},
          "execution_count": 16
        }
      ]
    },
    {
      "cell_type": "code",
      "source": [
        "#if you want to change false with \"Data analytics\" you can do that through index number\n",
        "\n",
        "list[7] = \"Data analytics\"\n",
        "list\n"
      ],
      "metadata": {
        "colab": {
          "base_uri": "https://localhost:8080/"
        },
        "id": "9LZXExPM6RBV",
        "outputId": "fef032d5-c587-424a-aa46-9221ab289650"
      },
      "execution_count": null,
      "outputs": [
        {
          "output_type": "execute_result",
          "data": {
            "text/plain": [
              "[1, 2, 3, 4.5, (3+5j), True, False, 'Data analytics', 'Pwskills']"
            ]
          },
          "metadata": {},
          "execution_count": 18
        }
      ]
    },
    {
      "cell_type": "code",
      "source": [
        "list[-5] = 11\n",
        "list"
      ],
      "metadata": {
        "colab": {
          "base_uri": "https://localhost:8080/"
        },
        "id": "1NpylOqr6wes",
        "outputId": "c4c790c9-e4c7-4eae-ef13-6cf6667e4c76"
      },
      "execution_count": null,
      "outputs": [
        {
          "output_type": "execute_result",
          "data": {
            "text/plain": [
              "[1, 2, 3, 4.5, 11, True, False, 'Data analytics', 'Pwskills']"
            ]
          },
          "metadata": {},
          "execution_count": 19
        }
      ]
    },
    {
      "cell_type": "code",
      "source": [
        "#Example of Immutable Objects:-\n",
        "\n",
        "data = \"PWskills\"\n",
        "data[3] = j\n",
        "data"
      ],
      "metadata": {
        "colab": {
          "base_uri": "https://localhost:8080/",
          "height": 193
        },
        "id": "S3VOzqfr7LxU",
        "outputId": "e1d12a40-4691-4e8b-bf23-8a3d1bb78728"
      },
      "execution_count": null,
      "outputs": [
        {
          "output_type": "error",
          "ename": "NameError",
          "evalue": "name 'j' is not defined",
          "traceback": [
            "\u001b[0;31m---------------------------------------------------------------------------\u001b[0m",
            "\u001b[0;31mNameError\u001b[0m                                 Traceback (most recent call last)",
            "\u001b[0;32m<ipython-input-22-8a5ae78f9434>\u001b[0m in \u001b[0;36m<cell line: 4>\u001b[0;34m()\u001b[0m\n\u001b[1;32m      2\u001b[0m \u001b[0;34m\u001b[0m\u001b[0m\n\u001b[1;32m      3\u001b[0m \u001b[0mdata\u001b[0m \u001b[0;34m=\u001b[0m \u001b[0;34m\"PWskills\"\u001b[0m\u001b[0;34m\u001b[0m\u001b[0;34m\u001b[0m\u001b[0m\n\u001b[0;32m----> 4\u001b[0;31m \u001b[0mdata\u001b[0m\u001b[0;34m[\u001b[0m\u001b[0;36m3\u001b[0m\u001b[0;34m]\u001b[0m \u001b[0;34m=\u001b[0m \u001b[0mj\u001b[0m\u001b[0;34m\u001b[0m\u001b[0;34m\u001b[0m\u001b[0m\n\u001b[0m\u001b[1;32m      5\u001b[0m \u001b[0mdata\u001b[0m\u001b[0;34m\u001b[0m\u001b[0;34m\u001b[0m\u001b[0m\n",
            "\u001b[0;31mNameError\u001b[0m: name 'j' is not defined"
          ]
        }
      ]
    },
    {
      "cell_type": "markdown",
      "source": [
        "Answer 4 - Operators - Python operators these are special keywords/symbols that are use to manipulate data or perform operations on values or variable.\n",
        "\n",
        "There are 7 types of Operators:-\n",
        "1) Arithmetic Operator\n",
        "2) Comparison Opeartor\n",
        "3) Logical Operator\n",
        "4) Assignment Operator\n",
        "5) Bitwise operator\n",
        "6) Membership Operator\n",
        "7) Identity Operator"
      ],
      "metadata": {
        "id": "rwtkBOVv8BTG"
      }
    },
    {
      "cell_type": "code",
      "source": [
        "#Arithmetic Operator - This operator includes all the numerical calculation (+, -, *, /, %, **)\n",
        "\n",
        "#Example :-\n",
        "\n",
        "#Addition\n",
        "a = 2\n",
        "b = 7\n",
        "a+b"
      ],
      "metadata": {
        "colab": {
          "base_uri": "https://localhost:8080/"
        },
        "id": "1W4BiaFQ7rt5",
        "outputId": "54ea1e64-9805-4d27-f62a-117f7e2c1ed8"
      },
      "execution_count": null,
      "outputs": [
        {
          "output_type": "execute_result",
          "data": {
            "text/plain": [
              "9"
            ]
          },
          "metadata": {},
          "execution_count": 49
        }
      ]
    },
    {
      "cell_type": "code",
      "source": [
        "add = a+b\n",
        "add"
      ],
      "metadata": {
        "colab": {
          "base_uri": "https://localhost:8080/"
        },
        "id": "63bnRzTN90Ok",
        "outputId": "49cdb28f-554f-49c2-8791-2da4ab0db85d"
      },
      "execution_count": null,
      "outputs": [
        {
          "output_type": "execute_result",
          "data": {
            "text/plain": [
              "9"
            ]
          },
          "metadata": {},
          "execution_count": 25
        }
      ]
    },
    {
      "cell_type": "code",
      "source": [
        "#Subtraction\n",
        "a - b"
      ],
      "metadata": {
        "colab": {
          "base_uri": "https://localhost:8080/"
        },
        "id": "tTkifMZF94Q_",
        "outputId": "1af6e54d-fa1a-4f32-c960-6b1be7c7060e"
      },
      "execution_count": null,
      "outputs": [
        {
          "output_type": "execute_result",
          "data": {
            "text/plain": [
              "-5"
            ]
          },
          "metadata": {},
          "execution_count": 26
        }
      ]
    },
    {
      "cell_type": "code",
      "source": [
        "1987 - 123"
      ],
      "metadata": {
        "colab": {
          "base_uri": "https://localhost:8080/"
        },
        "id": "d-MTQjWZ-AQO",
        "outputId": "930bbd4f-77cf-4797-ebc3-ce08781d594b"
      },
      "execution_count": null,
      "outputs": [
        {
          "output_type": "execute_result",
          "data": {
            "text/plain": [
              "1864"
            ]
          },
          "metadata": {},
          "execution_count": 27
        }
      ]
    },
    {
      "cell_type": "code",
      "source": [
        "#Multiplication\n",
        "\n",
        "a * b"
      ],
      "metadata": {
        "colab": {
          "base_uri": "https://localhost:8080/"
        },
        "id": "rKlxiLaY-DAn",
        "outputId": "2363fd7d-cb4b-456d-867a-11c6cf3f1553"
      },
      "execution_count": null,
      "outputs": [
        {
          "output_type": "execute_result",
          "data": {
            "text/plain": [
              "14"
            ]
          },
          "metadata": {},
          "execution_count": 28
        }
      ]
    },
    {
      "cell_type": "code",
      "source": [
        "100*98"
      ],
      "metadata": {
        "colab": {
          "base_uri": "https://localhost:8080/"
        },
        "id": "1T1j7Ufp-QTp",
        "outputId": "1826bbf9-2b8d-467d-8185-c840775ce534"
      },
      "execution_count": null,
      "outputs": [
        {
          "output_type": "execute_result",
          "data": {
            "text/plain": [
              "9800"
            ]
          },
          "metadata": {},
          "execution_count": 29
        }
      ]
    },
    {
      "cell_type": "code",
      "source": [
        "#Division\n",
        "\n",
        "276 / 6"
      ],
      "metadata": {
        "colab": {
          "base_uri": "https://localhost:8080/"
        },
        "id": "VYVjyf6j-SzE",
        "outputId": "26845ab4-2d73-4264-f218-1eed50352ec5"
      },
      "execution_count": null,
      "outputs": [
        {
          "output_type": "execute_result",
          "data": {
            "text/plain": [
              "46.0"
            ]
          },
          "metadata": {},
          "execution_count": 30
        }
      ]
    },
    {
      "cell_type": "code",
      "source": [
        "28/8"
      ],
      "metadata": {
        "colab": {
          "base_uri": "https://localhost:8080/"
        },
        "id": "OhI20bPw-cqp",
        "outputId": "1d5d700f-467c-44cb-adf0-76b2487145e3"
      },
      "execution_count": null,
      "outputs": [
        {
          "output_type": "execute_result",
          "data": {
            "text/plain": [
              "3.5"
            ]
          },
          "metadata": {},
          "execution_count": 31
        }
      ]
    },
    {
      "cell_type": "code",
      "source": [
        "#Modulus\n",
        "\n",
        "68 % 2"
      ],
      "metadata": {
        "colab": {
          "base_uri": "https://localhost:8080/"
        },
        "id": "Hup_n_mK-feA",
        "outputId": "26f11ece-f680-44ec-aade-7667b022e601"
      },
      "execution_count": null,
      "outputs": [
        {
          "output_type": "execute_result",
          "data": {
            "text/plain": [
              "0"
            ]
          },
          "metadata": {},
          "execution_count": 32
        }
      ]
    },
    {
      "cell_type": "code",
      "source": [
        "151 % 4"
      ],
      "metadata": {
        "colab": {
          "base_uri": "https://localhost:8080/"
        },
        "id": "5NAybug0-sYh",
        "outputId": "b784a162-a07d-4ad8-cade-879a1d1fd1d5"
      },
      "execution_count": null,
      "outputs": [
        {
          "output_type": "execute_result",
          "data": {
            "text/plain": [
              "3"
            ]
          },
          "metadata": {},
          "execution_count": 33
        }
      ]
    },
    {
      "cell_type": "code",
      "source": [
        "#Exponentiation (* *) to get the power of any number\n",
        "\n",
        "3 ** 7"
      ],
      "metadata": {
        "colab": {
          "base_uri": "https://localhost:8080/"
        },
        "id": "Eb9trMN3-yVu",
        "outputId": "b0d7b8d3-129f-440a-a8eb-cebf9181cc90"
      },
      "execution_count": null,
      "outputs": [
        {
          "output_type": "execute_result",
          "data": {
            "text/plain": [
              "2187"
            ]
          },
          "metadata": {},
          "execution_count": 34
        }
      ]
    },
    {
      "cell_type": "code",
      "source": [
        "89 ** 5"
      ],
      "metadata": {
        "colab": {
          "base_uri": "https://localhost:8080/"
        },
        "id": "cIM5Z-FT_Lm7",
        "outputId": "3a0e51a9-4e43-4078-9d53-095e3385bff8"
      },
      "execution_count": null,
      "outputs": [
        {
          "output_type": "execute_result",
          "data": {
            "text/plain": [
              "5584059449"
            ]
          },
          "metadata": {},
          "execution_count": 35
        }
      ]
    },
    {
      "cell_type": "code",
      "source": [
        "#Comparison Opeartor - It use to compare the two values and the result you will get in boolean valuein True/False. (==, !=, <, >)\n",
        "\n",
        "#Example of (==)\n",
        "\n",
        "\"pwskills\" == \"pwskills\""
      ],
      "metadata": {
        "colab": {
          "base_uri": "https://localhost:8080/"
        },
        "id": "iDqxAKUA_Pg6",
        "outputId": "b8eb259a-1ea5-42bd-c02c-ba00bcd8fefb"
      },
      "execution_count": null,
      "outputs": [
        {
          "output_type": "execute_result",
          "data": {
            "text/plain": [
              "True"
            ]
          },
          "metadata": {},
          "execution_count": 38
        }
      ]
    },
    {
      "cell_type": "code",
      "source": [
        "\"Sunita\" == \"Pwskills\"\n"
      ],
      "metadata": {
        "colab": {
          "base_uri": "https://localhost:8080/"
        },
        "id": "pQztBhS9ANm-",
        "outputId": "344743c1-66d5-4d9c-829a-904e2d3c7662"
      },
      "execution_count": null,
      "outputs": [
        {
          "output_type": "execute_result",
          "data": {
            "text/plain": [
              "False"
            ]
          },
          "metadata": {},
          "execution_count": 37
        }
      ]
    },
    {
      "cell_type": "code",
      "source": [
        "#Example of (!=) - This operator is not equal to\n",
        "\n",
        "\"Summer\" != \"Winter\""
      ],
      "metadata": {
        "colab": {
          "base_uri": "https://localhost:8080/"
        },
        "id": "ywlmIksJAVhK",
        "outputId": "fd372dcc-34c2-4bf6-db52-08af3dfb39c5"
      },
      "execution_count": null,
      "outputs": [
        {
          "output_type": "execute_result",
          "data": {
            "text/plain": [
              "True"
            ]
          },
          "metadata": {},
          "execution_count": 40
        }
      ]
    },
    {
      "cell_type": "code",
      "source": [
        "\"Data Analytics\" != \"Data Analytics\""
      ],
      "metadata": {
        "colab": {
          "base_uri": "https://localhost:8080/"
        },
        "id": "JPWBivaZAwq7",
        "outputId": "2166a98b-0fdc-41e7-a62b-4ec6171b0343"
      },
      "execution_count": null,
      "outputs": [
        {
          "output_type": "execute_result",
          "data": {
            "text/plain": [
              "False"
            ]
          },
          "metadata": {},
          "execution_count": 41
        }
      ]
    },
    {
      "cell_type": "code",
      "source": [
        "#Example of (<)\n",
        "\n",
        "10 < 30"
      ],
      "metadata": {
        "colab": {
          "base_uri": "https://localhost:8080/"
        },
        "id": "17pyjL7ZA4ex",
        "outputId": "4a9f718f-4051-43fc-99a1-68e818769349"
      },
      "execution_count": null,
      "outputs": [
        {
          "output_type": "execute_result",
          "data": {
            "text/plain": [
              "True"
            ]
          },
          "metadata": {},
          "execution_count": 42
        }
      ]
    },
    {
      "cell_type": "code",
      "source": [
        "10 < 10"
      ],
      "metadata": {
        "colab": {
          "base_uri": "https://localhost:8080/"
        },
        "id": "FfrdsZMHBBHD",
        "outputId": "4593241b-591c-4f1a-dd3e-d440ea4699c3"
      },
      "execution_count": null,
      "outputs": [
        {
          "output_type": "execute_result",
          "data": {
            "text/plain": [
              "False"
            ]
          },
          "metadata": {},
          "execution_count": 43
        }
      ]
    },
    {
      "cell_type": "code",
      "source": [
        "10 < 9"
      ],
      "metadata": {
        "colab": {
          "base_uri": "https://localhost:8080/"
        },
        "id": "UwdgCw0DBD9N",
        "outputId": "780f5dda-6cf9-47ba-b16e-4d535d8fc412"
      },
      "execution_count": null,
      "outputs": [
        {
          "output_type": "execute_result",
          "data": {
            "text/plain": [
              "False"
            ]
          },
          "metadata": {},
          "execution_count": 45
        }
      ]
    },
    {
      "cell_type": "code",
      "source": [
        "#Example of (>)\n",
        "\n",
        "100 > 30"
      ],
      "metadata": {
        "colab": {
          "base_uri": "https://localhost:8080/"
        },
        "id": "9HUzOcgZBINe",
        "outputId": "53e187b8-fe2d-4e5d-84bc-2c3d1a5be82d"
      },
      "execution_count": null,
      "outputs": [
        {
          "output_type": "execute_result",
          "data": {
            "text/plain": [
              "True"
            ]
          },
          "metadata": {},
          "execution_count": 46
        }
      ]
    },
    {
      "cell_type": "code",
      "source": [
        "64 > 70"
      ],
      "metadata": {
        "colab": {
          "base_uri": "https://localhost:8080/"
        },
        "id": "NFLZ-4y9BPD5",
        "outputId": "f51e0d1b-ba65-456b-989b-5123d541ff5a"
      },
      "execution_count": null,
      "outputs": [
        {
          "output_type": "execute_result",
          "data": {
            "text/plain": [
              "False"
            ]
          },
          "metadata": {},
          "execution_count": 47
        }
      ]
    },
    {
      "cell_type": "code",
      "source": [
        "#Logical Operator - Anything you decide logically is a logical operator. (and, or)\n",
        "\n",
        "#Example of (and) - In the and logical operator if both the conditions are satisfied then only it will show true),\n",
        "\n",
        "True and True"
      ],
      "metadata": {
        "colab": {
          "base_uri": "https://localhost:8080/"
        },
        "id": "hLu9mS5YBUAs",
        "outputId": "3effde48-a701-46c0-ffa3-38d6a8afb423"
      },
      "execution_count": null,
      "outputs": [
        {
          "output_type": "execute_result",
          "data": {
            "text/plain": [
              "True"
            ]
          },
          "metadata": {},
          "execution_count": 50
        }
      ]
    },
    {
      "cell_type": "code",
      "source": [
        "False and False"
      ],
      "metadata": {
        "colab": {
          "base_uri": "https://localhost:8080/"
        },
        "id": "3LDA4ML7DRcc",
        "outputId": "f1234b07-d5a4-4635-81c6-825bae495b95"
      },
      "execution_count": null,
      "outputs": [
        {
          "output_type": "execute_result",
          "data": {
            "text/plain": [
              "False"
            ]
          },
          "metadata": {},
          "execution_count": 58
        }
      ]
    },
    {
      "cell_type": "code",
      "source": [
        "False and True"
      ],
      "metadata": {
        "colab": {
          "base_uri": "https://localhost:8080/"
        },
        "id": "WiRWgpOlCRkG",
        "outputId": "fb52a42c-0b92-4167-97f6-74d3f399c859"
      },
      "execution_count": null,
      "outputs": [
        {
          "output_type": "execute_result",
          "data": {
            "text/plain": [
              "False"
            ]
          },
          "metadata": {},
          "execution_count": 51
        }
      ]
    },
    {
      "cell_type": "code",
      "source": [
        "1 and 1"
      ],
      "metadata": {
        "colab": {
          "base_uri": "https://localhost:8080/"
        },
        "id": "3zV9T_uCDDGW",
        "outputId": "78db38a9-a34e-4ab0-f739-643b5156815d"
      },
      "execution_count": null,
      "outputs": [
        {
          "output_type": "execute_result",
          "data": {
            "text/plain": [
              "1"
            ]
          },
          "metadata": {},
          "execution_count": 56
        }
      ]
    },
    {
      "cell_type": "code",
      "source": [
        "0 and 0"
      ],
      "metadata": {
        "colab": {
          "base_uri": "https://localhost:8080/"
        },
        "id": "C7hjsMIJDVck",
        "outputId": "da10f044-2264-4dc3-8e4f-4eb42a0cc5c2"
      },
      "execution_count": null,
      "outputs": [
        {
          "output_type": "execute_result",
          "data": {
            "text/plain": [
              "0"
            ]
          },
          "metadata": {},
          "execution_count": 59
        }
      ]
    },
    {
      "cell_type": "code",
      "source": [
        "1 and 0"
      ],
      "metadata": {
        "colab": {
          "base_uri": "https://localhost:8080/"
        },
        "id": "4usoRSJeDJHQ",
        "outputId": "b8f3f410-3cdb-4fab-b504-9b0c9d408b1e"
      },
      "execution_count": null,
      "outputs": [
        {
          "output_type": "execute_result",
          "data": {
            "text/plain": [
              "0"
            ]
          },
          "metadata": {},
          "execution_count": 57
        }
      ]
    },
    {
      "cell_type": "code",
      "source": [
        "#Exmple of (or) - In the or logical operator if any of the condition is satisfied it will execute.\n",
        "\n",
        "True or False"
      ],
      "metadata": {
        "colab": {
          "base_uri": "https://localhost:8080/"
        },
        "id": "O71d84UECTqa",
        "outputId": "a8ec6536-710b-45e2-c6bd-f218c9bcec37"
      },
      "execution_count": null,
      "outputs": [
        {
          "output_type": "execute_result",
          "data": {
            "text/plain": [
              "True"
            ]
          },
          "metadata": {},
          "execution_count": 55
        }
      ]
    },
    {
      "cell_type": "code",
      "source": [
        "True or True"
      ],
      "metadata": {
        "colab": {
          "base_uri": "https://localhost:8080/"
        },
        "id": "c_tKBwupC0Ar",
        "outputId": "6d37021d-f0c7-40d3-c75a-f1e9c1c9ea56"
      },
      "execution_count": null,
      "outputs": [
        {
          "output_type": "execute_result",
          "data": {
            "text/plain": [
              "True"
            ]
          },
          "metadata": {},
          "execution_count": 53
        }
      ]
    },
    {
      "cell_type": "code",
      "source": [
        "False or False"
      ],
      "metadata": {
        "colab": {
          "base_uri": "https://localhost:8080/"
        },
        "id": "ORjxxa6lC92n",
        "outputId": "d53901e8-2854-4e93-b384-20f68c9012ff"
      },
      "execution_count": null,
      "outputs": [
        {
          "output_type": "execute_result",
          "data": {
            "text/plain": [
              "False"
            ]
          },
          "metadata": {},
          "execution_count": 54
        }
      ]
    },
    {
      "cell_type": "code",
      "source": [
        "1 or 0"
      ],
      "metadata": {
        "colab": {
          "base_uri": "https://localhost:8080/"
        },
        "id": "rNVquj7NDAVR",
        "outputId": "0a1f169f-cf3f-45aa-fa67-1355382cda05"
      },
      "execution_count": null,
      "outputs": [
        {
          "output_type": "execute_result",
          "data": {
            "text/plain": [
              "1"
            ]
          },
          "metadata": {},
          "execution_count": 60
        }
      ]
    },
    {
      "cell_type": "code",
      "source": [
        "1 or 1"
      ],
      "metadata": {
        "colab": {
          "base_uri": "https://localhost:8080/"
        },
        "id": "K1xMdjRjDbxm",
        "outputId": "d035d31b-e0c0-4d12-d215-e2051b43ff22"
      },
      "execution_count": null,
      "outputs": [
        {
          "output_type": "execute_result",
          "data": {
            "text/plain": [
              "1"
            ]
          },
          "metadata": {},
          "execution_count": 61
        }
      ]
    },
    {
      "cell_type": "code",
      "source": [
        "0 or 0"
      ],
      "metadata": {
        "colab": {
          "base_uri": "https://localhost:8080/"
        },
        "id": "k6z7HrC9DdWy",
        "outputId": "3d7288d7-ffbd-41c9-8a8e-99190723bcfd"
      },
      "execution_count": null,
      "outputs": [
        {
          "output_type": "execute_result",
          "data": {
            "text/plain": [
              "0"
            ]
          },
          "metadata": {},
          "execution_count": 62
        }
      ]
    },
    {
      "cell_type": "code",
      "source": [
        "#Assignment Operator - Do something and assign back to the variable is called assignment operator.\n",
        "\n",
        "#Example\n",
        "\n",
        "a = 3\n",
        "a"
      ],
      "metadata": {
        "colab": {
          "base_uri": "https://localhost:8080/"
        },
        "id": "1PkJWTy7ETAf",
        "outputId": "2f638019-8361-4350-cac8-7fc0d17e8b50"
      },
      "execution_count": null,
      "outputs": [
        {
          "output_type": "execute_result",
          "data": {
            "text/plain": [
              "3"
            ]
          },
          "metadata": {},
          "execution_count": 72
        }
      ]
    },
    {
      "cell_type": "code",
      "source": [
        "a + 7"
      ],
      "metadata": {
        "colab": {
          "base_uri": "https://localhost:8080/"
        },
        "id": "UVTfTyA5EbJX",
        "outputId": "5f014987-20d6-4ca0-feb4-798de882663e"
      },
      "execution_count": null,
      "outputs": [
        {
          "output_type": "execute_result",
          "data": {
            "text/plain": [
              "10"
            ]
          },
          "metadata": {},
          "execution_count": 73
        }
      ]
    },
    {
      "cell_type": "code",
      "source": [
        "c = 8\n",
        "c += 9\n",
        "c"
      ],
      "metadata": {
        "colab": {
          "base_uri": "https://localhost:8080/"
        },
        "id": "gcnfeJLWEdLt",
        "outputId": "5c0285f2-9820-47e8-c327-2ea682fd24d4"
      },
      "execution_count": null,
      "outputs": [
        {
          "output_type": "execute_result",
          "data": {
            "text/plain": [
              "17"
            ]
          },
          "metadata": {},
          "execution_count": 75
        }
      ]
    },
    {
      "cell_type": "code",
      "source": [
        "c"
      ],
      "metadata": {
        "colab": {
          "base_uri": "https://localhost:8080/"
        },
        "id": "9kfKSEw4E873",
        "outputId": "a3255ae9-c460-4689-fdf0-bdadea3841a0"
      },
      "execution_count": null,
      "outputs": [
        {
          "output_type": "execute_result",
          "data": {
            "text/plain": [
              "17"
            ]
          },
          "metadata": {},
          "execution_count": 78
        }
      ]
    },
    {
      "cell_type": "code",
      "source": [
        "d = 10\n",
        "d -= 9\n",
        "d"
      ],
      "metadata": {
        "colab": {
          "base_uri": "https://localhost:8080/"
        },
        "id": "J2JHIeQ-ErBB",
        "outputId": "357a3d0e-91b6-4d59-968c-bc924eae63dd"
      },
      "execution_count": null,
      "outputs": [
        {
          "output_type": "execute_result",
          "data": {
            "text/plain": [
              "1"
            ]
          },
          "metadata": {},
          "execution_count": 77
        }
      ]
    },
    {
      "cell_type": "code",
      "source": [
        "l = 8\n",
        "l *= 2\n",
        "l"
      ],
      "metadata": {
        "colab": {
          "base_uri": "https://localhost:8080/"
        },
        "id": "upvfDfUjE1vQ",
        "outputId": "244f26e7-f8b4-44de-f6f3-c185bddf5c59"
      },
      "execution_count": null,
      "outputs": [
        {
          "output_type": "execute_result",
          "data": {
            "text/plain": [
              "16"
            ]
          },
          "metadata": {},
          "execution_count": 80
        }
      ]
    },
    {
      "cell_type": "code",
      "source": [
        "m = 4\n",
        "m /= 2\n",
        "m"
      ],
      "metadata": {
        "colab": {
          "base_uri": "https://localhost:8080/"
        },
        "id": "em3ARoz8FGbQ",
        "outputId": "825a63d7-62cb-494d-b2ba-e722780bc284"
      },
      "execution_count": null,
      "outputs": [
        {
          "output_type": "execute_result",
          "data": {
            "text/plain": [
              "2.0"
            ]
          },
          "metadata": {},
          "execution_count": 81
        }
      ]
    },
    {
      "cell_type": "code",
      "source": [
        "#Bitwise operator - Operations done at bit level, manipulating individuals bits integer. Machine interact with binary number which is 1 and 0.\n",
        "\n",
        "#Example of and bitwise operator:-\n",
        "\n",
        "18 & 3"
      ],
      "metadata": {
        "colab": {
          "base_uri": "https://localhost:8080/"
        },
        "id": "cfdyNMhjFLVz",
        "outputId": "df9e1a34-ca50-4e58-cd4b-defe8e4a0fb2"
      },
      "execution_count": null,
      "outputs": [
        {
          "output_type": "execute_result",
          "data": {
            "text/plain": [
              "2"
            ]
          },
          "metadata": {},
          "execution_count": 82
        }
      ]
    },
    {
      "cell_type": "code",
      "source": [
        "bin(18)"
      ],
      "metadata": {
        "colab": {
          "base_uri": "https://localhost:8080/",
          "height": 35
        },
        "id": "3W6JEoD_FrnX",
        "outputId": "7185a10e-98c8-48d8-9dad-3e2fee756fe5"
      },
      "execution_count": null,
      "outputs": [
        {
          "output_type": "execute_result",
          "data": {
            "text/plain": [
              "'0b10010'"
            ],
            "application/vnd.google.colaboratory.intrinsic+json": {
              "type": "string"
            }
          },
          "metadata": {},
          "execution_count": 83
        }
      ]
    },
    {
      "cell_type": "code",
      "source": [
        "bin(3)"
      ],
      "metadata": {
        "colab": {
          "base_uri": "https://localhost:8080/",
          "height": 35
        },
        "id": "GVpJlJ3kFtkN",
        "outputId": "26871228-1654-4ee9-95fd-e35528dd2adc"
      },
      "execution_count": null,
      "outputs": [
        {
          "output_type": "execute_result",
          "data": {
            "text/plain": [
              "'0b11'"
            ],
            "application/vnd.google.colaboratory.intrinsic+json": {
              "type": "string"
            }
          },
          "metadata": {},
          "execution_count": 84
        }
      ]
    },
    {
      "cell_type": "code",
      "source": [
        "bin(2)"
      ],
      "metadata": {
        "colab": {
          "base_uri": "https://localhost:8080/",
          "height": 35
        },
        "id": "894iEf5yFvHI",
        "outputId": "271c1290-d110-4bcf-dffa-deefcf24046c"
      },
      "execution_count": null,
      "outputs": [
        {
          "output_type": "execute_result",
          "data": {
            "text/plain": [
              "'0b10'"
            ],
            "application/vnd.google.colaboratory.intrinsic+json": {
              "type": "string"
            }
          },
          "metadata": {},
          "execution_count": 85
        }
      ]
    },
    {
      "cell_type": "code",
      "source": [
        "#Example of or bitwise operator:-\n",
        "\n",
        "9 | 6"
      ],
      "metadata": {
        "colab": {
          "base_uri": "https://localhost:8080/"
        },
        "id": "SNEcwWLMFwnt",
        "outputId": "171629f5-9eb3-497c-cac7-d50cf5c8e406"
      },
      "execution_count": null,
      "outputs": [
        {
          "output_type": "execute_result",
          "data": {
            "text/plain": [
              "15"
            ]
          },
          "metadata": {},
          "execution_count": 86
        }
      ]
    },
    {
      "cell_type": "code",
      "source": [
        "bin(9)"
      ],
      "metadata": {
        "colab": {
          "base_uri": "https://localhost:8080/",
          "height": 35
        },
        "id": "ACwGrJ8NF-5A",
        "outputId": "2e1a2bc2-b764-4288-82cc-7b87baf8dc43"
      },
      "execution_count": null,
      "outputs": [
        {
          "output_type": "execute_result",
          "data": {
            "text/plain": [
              "'0b1001'"
            ],
            "application/vnd.google.colaboratory.intrinsic+json": {
              "type": "string"
            }
          },
          "metadata": {},
          "execution_count": 87
        }
      ]
    },
    {
      "cell_type": "code",
      "source": [
        "bin(6)"
      ],
      "metadata": {
        "colab": {
          "base_uri": "https://localhost:8080/",
          "height": 35
        },
        "id": "fKY_NRP3GAY6",
        "outputId": "dd485a79-07dd-4927-a8b9-7718314223a4"
      },
      "execution_count": null,
      "outputs": [
        {
          "output_type": "execute_result",
          "data": {
            "text/plain": [
              "'0b110'"
            ],
            "application/vnd.google.colaboratory.intrinsic+json": {
              "type": "string"
            }
          },
          "metadata": {},
          "execution_count": 88
        }
      ]
    },
    {
      "cell_type": "code",
      "source": [
        "bin(15)"
      ],
      "metadata": {
        "colab": {
          "base_uri": "https://localhost:8080/",
          "height": 35
        },
        "id": "lfQjSvruGBYb",
        "outputId": "a2d0910e-1b2a-4aa4-87d3-4da91fb16756"
      },
      "execution_count": null,
      "outputs": [
        {
          "output_type": "execute_result",
          "data": {
            "text/plain": [
              "'0b1111'"
            ],
            "application/vnd.google.colaboratory.intrinsic+json": {
              "type": "string"
            }
          },
          "metadata": {},
          "execution_count": 89
        }
      ]
    },
    {
      "cell_type": "code",
      "source": [
        "#Membership Operator - This operator use when you want or find any detail is available in the given data, If that detail is available in the data it will show \"True\", If its not available it will show the result false.\n",
        "\n",
        "#Example\n",
        "\n",
        "l = [\"data\", \"analytics\", \"science\", \"course\", 12, 13, 4]\n",
        "\"data\" in l"
      ],
      "metadata": {
        "colab": {
          "base_uri": "https://localhost:8080/"
        },
        "id": "grtekByMGCZ-",
        "outputId": "a556db15-4052-49f7-ed37-6cf9d0f556a0"
      },
      "execution_count": null,
      "outputs": [
        {
          "output_type": "execute_result",
          "data": {
            "text/plain": [
              "True"
            ]
          },
          "metadata": {},
          "execution_count": 90
        }
      ]
    },
    {
      "cell_type": "code",
      "source": [
        "l = [\"data\", \"analytics\", \"science\", \"course\", 12, 13, 4]\n",
        "\"Sunita\" in l"
      ],
      "metadata": {
        "colab": {
          "base_uri": "https://localhost:8080/"
        },
        "id": "q6OpjmmWGiVK",
        "outputId": "66a21a66-8727-4da5-dd33-d82d8bda63c6"
      },
      "execution_count": null,
      "outputs": [
        {
          "output_type": "execute_result",
          "data": {
            "text/plain": [
              "False"
            ]
          },
          "metadata": {},
          "execution_count": 91
        }
      ]
    },
    {
      "cell_type": "code",
      "source": [
        "#Identity Operator - Identity operator compare the memory location of two objects.\n",
        "\n",
        "#Example\n",
        "\n",
        "a = \"Pwskills\"\n",
        "b = \"Data Analytics\"\n",
        "a is b"
      ],
      "metadata": {
        "colab": {
          "base_uri": "https://localhost:8080/"
        },
        "id": "oEG0vdBWGn9l",
        "outputId": "a8855fcb-1dfc-4864-bbcf-bf6906232998"
      },
      "execution_count": null,
      "outputs": [
        {
          "output_type": "execute_result",
          "data": {
            "text/plain": [
              "False"
            ]
          },
          "metadata": {},
          "execution_count": 97
        }
      ]
    },
    {
      "cell_type": "code",
      "source": [
        "a = \"Pwskills\"\n",
        "b = \"Data Analytics\"\n",
        "a = b\n",
        "a is b"
      ],
      "metadata": {
        "colab": {
          "base_uri": "https://localhost:8080/"
        },
        "id": "WZP0yE8iG-kQ",
        "outputId": "2076b1d5-269e-4ba2-fde4-dcb047f5c9f7"
      },
      "execution_count": null,
      "outputs": [
        {
          "output_type": "execute_result",
          "data": {
            "text/plain": [
              "True"
            ]
          },
          "metadata": {},
          "execution_count": 98
        }
      ]
    },
    {
      "cell_type": "code",
      "source": [
        "a = \"Sunita\"\n",
        "b = \"Sunita\"\n",
        "a is b"
      ],
      "metadata": {
        "colab": {
          "base_uri": "https://localhost:8080/"
        },
        "id": "KvloyrgQHDhz",
        "outputId": "4d326c61-c576-47a3-d6f9-36daf21f441f"
      },
      "execution_count": null,
      "outputs": [
        {
          "output_type": "execute_result",
          "data": {
            "text/plain": [
              "True"
            ]
          },
          "metadata": {},
          "execution_count": 100
        }
      ]
    },
    {
      "cell_type": "code",
      "source": [
        "a = \"Sunita\"\n",
        "b = \"Sunita\"\n",
        "a is not b"
      ],
      "metadata": {
        "colab": {
          "base_uri": "https://localhost:8080/"
        },
        "id": "M9N3Xel3HZiC",
        "outputId": "34809e28-beb5-4bf0-9f20-fdd67834a72d"
      },
      "execution_count": null,
      "outputs": [
        {
          "output_type": "execute_result",
          "data": {
            "text/plain": [
              "False"
            ]
          },
          "metadata": {},
          "execution_count": 101
        }
      ]
    },
    {
      "cell_type": "code",
      "source": [
        "a = \"Pwskills\"\n",
        "b = \"Data Analytics\"\n",
        "a is not b"
      ],
      "metadata": {
        "colab": {
          "base_uri": "https://localhost:8080/"
        },
        "id": "O-frju_THiMr",
        "outputId": "1caf0471-f729-485e-ff30-9404c417d17f"
      },
      "execution_count": null,
      "outputs": [
        {
          "output_type": "execute_result",
          "data": {
            "text/plain": [
              "True"
            ]
          },
          "metadata": {},
          "execution_count": 102
        }
      ]
    },
    {
      "cell_type": "markdown",
      "source": [
        "Answer 5 - Type Casting is also known as type conversion, It means converting to one data type to another data type.\n",
        "\n",
        "There are two types of Type Casting:-\n",
        "\n",
        "1) Implicit Type Casting - In implicit type casting Python understand the standard data type.\n",
        "\n",
        "2) Explicit Type Casting - It helps to convert data type using inbuilt functions.Like (String, Integer, Float, Boolean)"
      ],
      "metadata": {
        "id": "pPvlCsSzH7Bw"
      }
    },
    {
      "cell_type": "code",
      "source": [
        "#Implicit Type Casting\n",
        "\n",
        "a = 10\n",
        "type(a)"
      ],
      "metadata": {
        "colab": {
          "base_uri": "https://localhost:8080/"
        },
        "id": "fZ7lh0ubH4Vm",
        "outputId": "0375d3e6-1aa3-43b1-ca82-131eb246b384"
      },
      "execution_count": null,
      "outputs": [
        {
          "output_type": "execute_result",
          "data": {
            "text/plain": [
              "int"
            ]
          },
          "metadata": {},
          "execution_count": 104
        }
      ]
    },
    {
      "cell_type": "code",
      "source": [
        "10 + 3.4"
      ],
      "metadata": {
        "colab": {
          "base_uri": "https://localhost:8080/"
        },
        "id": "650aFl0HK0VN",
        "outputId": "8e9c87a1-4ef8-4ace-d462-38e6005538fc"
      },
      "execution_count": null,
      "outputs": [
        {
          "output_type": "execute_result",
          "data": {
            "text/plain": [
              "13.4"
            ]
          },
          "metadata": {},
          "execution_count": 115
        }
      ]
    },
    {
      "cell_type": "code",
      "source": [
        "type(a)"
      ],
      "metadata": {
        "colab": {
          "base_uri": "https://localhost:8080/"
        },
        "id": "FPV4dOBNK-0M",
        "outputId": "dfbb42dd-707a-4264-c561-383fb3e165cb"
      },
      "execution_count": null,
      "outputs": [
        {
          "output_type": "execute_result",
          "data": {
            "text/plain": [
              "float"
            ]
          },
          "metadata": {},
          "execution_count": 116
        }
      ]
    },
    {
      "cell_type": "code",
      "source": [
        "b = \"2\"\n",
        "type(b)"
      ],
      "metadata": {
        "colab": {
          "base_uri": "https://localhost:8080/"
        },
        "id": "ywxUSVXEJMeP",
        "outputId": "e531b01d-83aa-4e99-8a29-6c76df1d3a25"
      },
      "execution_count": null,
      "outputs": [
        {
          "output_type": "execute_result",
          "data": {
            "text/plain": [
              "str"
            ]
          },
          "metadata": {},
          "execution_count": 117
        }
      ]
    },
    {
      "cell_type": "code",
      "source": [
        "c = 13.56\n",
        "type(c)"
      ],
      "metadata": {
        "colab": {
          "base_uri": "https://localhost:8080/"
        },
        "id": "QMAWBVD4JR9L",
        "outputId": "bbcf5987-5122-4eb7-8ac7-df549ccfc057"
      },
      "execution_count": null,
      "outputs": [
        {
          "output_type": "execute_result",
          "data": {
            "text/plain": [
              "float"
            ]
          },
          "metadata": {},
          "execution_count": 106
        }
      ]
    },
    {
      "cell_type": "code",
      "source": [
        "d = 5 + 9j\n",
        "type(d)"
      ],
      "metadata": {
        "colab": {
          "base_uri": "https://localhost:8080/"
        },
        "id": "Gjd1BO06JWpY",
        "outputId": "144d3402-e00f-48be-b6aa-8de0fe5a1d93"
      },
      "execution_count": null,
      "outputs": [
        {
          "output_type": "execute_result",
          "data": {
            "text/plain": [
              "complex"
            ]
          },
          "metadata": {},
          "execution_count": 109
        }
      ]
    },
    {
      "cell_type": "code",
      "source": [
        "#Explicit Type Casting -\n",
        "\n",
        "g = 26\n",
        "type(g)\n",
        "\n"
      ],
      "metadata": {
        "colab": {
          "base_uri": "https://localhost:8080/"
        },
        "id": "WWtBwAnOJapx",
        "outputId": "0adb72f9-fbbe-4f25-cd4b-8ea076f4db06"
      },
      "execution_count": null,
      "outputs": [
        {
          "output_type": "execute_result",
          "data": {
            "text/plain": [
              "int"
            ]
          },
          "metadata": {},
          "execution_count": 118
        }
      ]
    },
    {
      "cell_type": "code",
      "source": [
        "#convert integer (g) to string\n",
        "\n",
        "g = 26\n",
        "str(g)\n"
      ],
      "metadata": {
        "colab": {
          "base_uri": "https://localhost:8080/",
          "height": 35
        },
        "id": "9YoQkoLUMFMt",
        "outputId": "62f39599-09ef-4070-add6-28fd34bc107a"
      },
      "execution_count": null,
      "outputs": [
        {
          "output_type": "execute_result",
          "data": {
            "text/plain": [
              "'26'"
            ],
            "application/vnd.google.colaboratory.intrinsic+json": {
              "type": "string"
            }
          },
          "metadata": {},
          "execution_count": 120
        }
      ]
    },
    {
      "cell_type": "code",
      "source": [
        "type(g)"
      ],
      "metadata": {
        "colab": {
          "base_uri": "https://localhost:8080/"
        },
        "id": "Htx6khrkMbKk",
        "outputId": "f400dfa3-bb6f-46d5-9390-3903bf241e5d"
      },
      "execution_count": null,
      "outputs": [
        {
          "output_type": "execute_result",
          "data": {
            "text/plain": [
              "int"
            ]
          },
          "metadata": {},
          "execution_count": 121
        }
      ]
    },
    {
      "cell_type": "code",
      "source": [
        "#convert integer (g) to float\n",
        "\n",
        "f = 6\n",
        "float(f)"
      ],
      "metadata": {
        "colab": {
          "base_uri": "https://localhost:8080/"
        },
        "id": "LmSgniKnMigy",
        "outputId": "27f5c213-8b8d-4be9-962e-142607315296"
      },
      "execution_count": null,
      "outputs": [
        {
          "output_type": "execute_result",
          "data": {
            "text/plain": [
              "6.0"
            ]
          },
          "metadata": {},
          "execution_count": 123
        }
      ]
    },
    {
      "cell_type": "markdown",
      "source": [
        "Answer 6 - Conditioal Statement helps to code decision based on some preconditions.\n",
        "\n",
        "There are 4 types of conditional statement:-\n",
        "\n",
        "1) if\n",
        "2) if else\n",
        "3) if -elif -else\n",
        "4) nested if -else"
      ],
      "metadata": {
        "id": "3EIgx8cCNDdr"
      }
    },
    {
      "cell_type": "code",
      "source": [
        "#Example\n",
        "\n",
        "age = 18\n",
        "if (age > 70):\n",
        "  print(\"You are super senior citizens\")\n",
        "elif (50 <= age < 65 ):\n",
        "  print(\"You are senior citizen\")\n",
        "elif (30 <= age < 50):\n",
        "  print(\"You are adult\")\n",
        "elif (\"18 <= age < 30\"):\n",
        "  print(\"You are teenager\")\n",
        "else:\n",
        "      print(\"You are kid\")\n"
      ],
      "metadata": {
        "colab": {
          "base_uri": "https://localhost:8080/"
        },
        "id": "WN2k7TmTMsEO",
        "outputId": "ef76fd87-ea58-487a-ba6c-9117ec4e032f"
      },
      "execution_count": null,
      "outputs": [
        {
          "output_type": "stream",
          "name": "stdout",
          "text": [
            "You are teenager\n"
          ]
        }
      ]
    },
    {
      "cell_type": "code",
      "source": [
        "age = 60\n",
        "if (age > 70):\n",
        "  print(\"You are super senior citizens\")\n",
        "elif (50 <= age < 65 ):\n",
        "  print(\"You are senior citizen\")\n",
        "elif (30 <= age < 50):\n",
        "  print(\"You are adult\")\n",
        "elif (\"18 <= age < 30\"):\n",
        "  print(\"You are teenager\")\n",
        "else:\n",
        "      print(\"You are kid\")"
      ],
      "metadata": {
        "colab": {
          "base_uri": "https://localhost:8080/"
        },
        "id": "ARS8TpMeeync",
        "outputId": "0efbef70-8cf6-4fee-8f7c-f968e1b96318"
      },
      "execution_count": null,
      "outputs": [
        {
          "output_type": "stream",
          "name": "stdout",
          "text": [
            "You are senior citizen\n"
          ]
        }
      ]
    },
    {
      "cell_type": "code",
      "source": [
        "hour = 24\n",
        "if (hour > 23):\n",
        "  print(\"It's a mid night\")\n",
        "elif(20 <= hour < 24):\n",
        "  print(\"It's Night\")\n",
        "elif(16 <= hour < 20):\n",
        "  print(\"It's Evening\")\n",
        "elif(12 <= hour < 16):\n",
        "  print(\"It's Afternoon\")\n",
        "elif(8 <= hour < 12):\n",
        "  print(\"It's Morning\")\n",
        "else:\n",
        "  print(\"It's Early Morning\")"
      ],
      "metadata": {
        "colab": {
          "base_uri": "https://localhost:8080/"
        },
        "id": "SuS00ZMOe4Mq",
        "outputId": "44804789-e805-446c-8879-46bcf91bb736"
      },
      "execution_count": null,
      "outputs": [
        {
          "output_type": "stream",
          "name": "stdout",
          "text": [
            "It's a mid night\n"
          ]
        }
      ]
    },
    {
      "cell_type": "code",
      "source": [
        "hour = 14\n",
        "if (hour > 23):\n",
        "  print(\"It's a mid night\")\n",
        "elif(20 <= hour < 24):\n",
        "  print(\"It's Night\")\n",
        "elif(16 <= hour < 20):\n",
        "  print(\"It's Evening\")\n",
        "elif(12 <= hour < 16):\n",
        "  print(\"It's Afternoon\")\n",
        "elif(8 <= hour < 12):\n",
        "  print(\"It's Morning\")\n",
        "else:\n",
        "  print(\"It's Early Morning\")"
      ],
      "metadata": {
        "colab": {
          "base_uri": "https://localhost:8080/"
        },
        "id": "AgMWpZRUf6nH",
        "outputId": "1c22ddd9-7a86-42b2-948f-d19fef28f003"
      },
      "execution_count": null,
      "outputs": [
        {
          "output_type": "stream",
          "name": "stdout",
          "text": [
            "It's Afternoon\n"
          ]
        }
      ]
    },
    {
      "cell_type": "code",
      "source": [
        "x = 7\n",
        "y = 9\n",
        "if (x > 5):\n",
        "    if (y > 5):\n",
        "        print(\"Both x and y is greater than 5\")\n",
        "    else:\n",
        "        print(\"x is greater than 5 but y is less than 5\")\n",
        "else:\n",
        "    print(\"x is not greater than 5\")"
      ],
      "metadata": {
        "colab": {
          "base_uri": "https://localhost:8080/"
        },
        "id": "u8eugTETgR4v",
        "outputId": "9844eda8-2967-4383-a122-e849f852ac49"
      },
      "execution_count": null,
      "outputs": [
        {
          "output_type": "stream",
          "name": "stdout",
          "text": [
            "Both x and y is greater than 5\n"
          ]
        }
      ]
    },
    {
      "cell_type": "markdown",
      "source": [
        "Answer 7 - Loops in python are allows to execute a block of code repeatedly.\n",
        "\n",
        "There are 2 types of Loops:-\n",
        "\n",
        "1) while loop - It will repeatedly execute a block of code until a condition is true or met.\n",
        "\n",
        "2) for loop - for loop try to access the data in a sequential way."
      ],
      "metadata": {
        "id": "raTrt758hBbq"
      }
    },
    {
      "cell_type": "code",
      "source": [
        "#Use cases of while loop:-\n",
        "\n",
        "#creat 6 rows and 6 columns of triagle with * and space between them.\n",
        "\n",
        "\n",
        "row = 1\n",
        "while (row <= 6):\n",
        "    column = 1\n",
        "    while (column <= row):\n",
        "        print(\"*\", end = \"\")\n",
        "        column = column + 1\n",
        "    print()\n",
        "    row = row + 1"
      ],
      "metadata": {
        "colab": {
          "base_uri": "https://localhost:8080/"
        },
        "id": "TaMjDVl3gkVd",
        "outputId": "09dc5cbe-13ac-4236-ae3f-0d2ff5207f44"
      },
      "execution_count": null,
      "outputs": [
        {
          "output_type": "stream",
          "name": "stdout",
          "text": [
            "*\n",
            "**\n",
            "***\n",
            "****\n",
            "*****\n",
            "******\n"
          ]
        }
      ]
    },
    {
      "cell_type": "code",
      "source": [
        "row = 1\n",
        "while (row <= 4):\n",
        "    column = 1\n",
        "    while (column <= row):\n",
        "        print(\"#\", end = \" \")\n",
        "        column = column + 1\n",
        "    print()\n",
        "    row = row + 1"
      ],
      "metadata": {
        "colab": {
          "base_uri": "https://localhost:8080/"
        },
        "id": "2VX69LANiRR5",
        "outputId": "e863e3dd-fc19-43e3-92a9-0983fe7eb047"
      },
      "execution_count": null,
      "outputs": [
        {
          "output_type": "stream",
          "name": "stdout",
          "text": [
            "# \n",
            "# # \n",
            "# # # \n",
            "# # # # \n"
          ]
        }
      ]
    },
    {
      "cell_type": "code",
      "source": [
        "#for loop\n",
        "\n",
        "list = [1, 2, 3, 4, \"Sunita\", \"Ajay\", 7, 8.9]\n",
        "for list in list:\n",
        "    if (list == 4) or (list == \"Ajay\"):\n",
        "        continue\n",
        "    print(list)"
      ],
      "metadata": {
        "colab": {
          "base_uri": "https://localhost:8080/"
        },
        "id": "fU_MgupRidYo",
        "outputId": "af652cf6-273d-4be2-f297-63b722be50b9"
      },
      "execution_count": null,
      "outputs": [
        {
          "output_type": "stream",
          "name": "stdout",
          "text": [
            "1\n",
            "2\n",
            "3\n",
            "Sunita\n",
            "7\n",
            "8.9\n"
          ]
        }
      ]
    },
    {
      "cell_type": "code",
      "source": [
        "list = [1, 2, 3, 4, \"Sunita\", \"Ajay\", 7, 8.9]\n",
        "for list in list:\n",
        "    if (list == 4) or (list == \"Ajay\"):\n",
        "        break\n",
        "    print(list)"
      ],
      "metadata": {
        "colab": {
          "base_uri": "https://localhost:8080/"
        },
        "id": "9gq8yJJcjOEw",
        "outputId": "68de06a0-4354-407a-8d00-db41336dba63"
      },
      "execution_count": null,
      "outputs": [
        {
          "output_type": "stream",
          "name": "stdout",
          "text": [
            "1\n",
            "2\n",
            "3\n"
          ]
        }
      ]
    },
    {
      "cell_type": "code",
      "source": [],
      "metadata": {
        "id": "gpEqlPATjTuU"
      },
      "execution_count": null,
      "outputs": []
    }
  ]
}